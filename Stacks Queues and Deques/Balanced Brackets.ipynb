{
 "cells": [
  {
   "cell_type": "markdown",
   "metadata": {},
   "source": [
    "# Balnaced Brackets \n",
    "check if the given pattern of brackets is balanced or not ~\n",
    "{{{{()}}}}[][][[[]]]    blanced\n",
    "{{{{}{}}}} not balanced"
   ]
  },
  {
   "cell_type": "code",
   "execution_count": 2,
   "metadata": {},
   "outputs": [],
   "source": [
    "def balanced(s):\n",
    "    opening=[\"{\",\"[\",\"(\"];\n",
    "    closing=[\"}\",\"]\",\")\"];\n",
    "    if s[0] in closing or s[len(s)-1] in opening or len(s)%2 != 0:\n",
    "        return \"Not Balanced\";\n",
    "    else:\n",
    "        string_open=[];\n",
    "        for i in s:\n",
    "            if i in opening:\n",
    "                string_open.append(i);\n",
    "            else:\n",
    "                if string_open==[]:\n",
    "                        return \"Not balanced\";\n",
    "                        break;\n",
    "                else:\n",
    "                    last_open=string_open.pop();\n",
    "                    if opening.index(last_open) != closing.index(i):\n",
    "                        return \"Not Balanced\";\n",
    "                        break;\n",
    "        return \"Balanced\";\n",
    "                "
   ]
  },
  {
   "cell_type": "code",
   "execution_count": 3,
   "metadata": {},
   "outputs": [
    {
     "data": {
      "text/plain": [
       "'Balanced'"
      ]
     },
     "execution_count": 3,
     "metadata": {},
     "output_type": "execute_result"
    }
   ],
   "source": [
    "balanced(\"{{[((()))]}}\")"
   ]
  },
  {
   "cell_type": "code",
   "execution_count": 4,
   "metadata": {},
   "outputs": [
    {
     "data": {
      "text/plain": [
       "'Not Balanced'"
      ]
     },
     "execution_count": 4,
     "metadata": {},
     "output_type": "execute_result"
    }
   ],
   "source": [
    "balanced(\"{{[((())]}}\")"
   ]
  },
  {
   "cell_type": "code",
   "execution_count": 5,
   "metadata": {},
   "outputs": [
    {
     "data": {
      "text/plain": [
       "'Balanced'"
      ]
     },
     "execution_count": 5,
     "metadata": {},
     "output_type": "execute_result"
    }
   ],
   "source": [
    "balanced(\"()\")"
   ]
  },
  {
   "cell_type": "code",
   "execution_count": 7,
   "metadata": {},
   "outputs": [
    {
     "data": {
      "text/plain": [
       "'Balanced'"
      ]
     },
     "execution_count": 7,
     "metadata": {},
     "output_type": "execute_result"
    }
   ],
   "source": [
    "balanced(\"{([][][][]{}{}{()})}\")"
   ]
  },
  {
   "cell_type": "code",
   "execution_count": 8,
   "metadata": {},
   "outputs": [
    {
     "data": {
      "text/plain": [
       "'Not Balanced'"
      ]
     },
     "execution_count": 8,
     "metadata": {},
     "output_type": "execute_result"
    }
   ],
   "source": [
    "balanced(\"{([][][][]{}{{()})}\")"
   ]
  },
  {
   "cell_type": "code",
   "execution_count": null,
   "metadata": {},
   "outputs": [],
   "source": []
  }
 ],
 "metadata": {
  "kernelspec": {
   "display_name": "Python 3",
   "language": "python",
   "name": "python3"
  },
  "language_info": {
   "codemirror_mode": {
    "name": "ipython",
    "version": 3
   },
   "file_extension": ".py",
   "mimetype": "text/x-python",
   "name": "python",
   "nbconvert_exporter": "python",
   "pygments_lexer": "ipython3",
   "version": "3.6.8"
  }
 },
 "nbformat": 4,
 "nbformat_minor": 2
}
