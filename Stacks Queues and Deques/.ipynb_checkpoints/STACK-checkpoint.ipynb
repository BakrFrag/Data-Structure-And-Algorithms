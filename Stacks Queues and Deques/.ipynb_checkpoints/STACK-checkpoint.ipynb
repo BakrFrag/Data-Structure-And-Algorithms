{
 "cells": [
  {
   "cell_type": "markdown",
   "metadata": {},
   "source": [
    "# STACK\n",
    "## LIFO Last Input First Out\n"
   ]
  },
  {
   "cell_type": "code",
   "execution_count": 3,
   "metadata": {},
   "outputs": [],
   "source": [
    "class stack():\n",
    "    def __init__(self):\n",
    "        self.items=[];\n",
    "    def isempty(self):\n",
    "        return self.items==[];\n",
    "    def push(self,item):\n",
    "        self.items.append(item);\n",
    "    def pop(self):\n",
    "        self.items.pop();\n",
    "    def size(self):\n",
    "        return len(self.items);\n",
    "    def peek(self):\n",
    "        return self.items[-1];\n",
    "    def remove(self,index):\n",
    "        if self.size > index:\n",
    "            self.items.pop(index);\n",
    "    def display(self):\n",
    "        print(*self.items);\n",
    "            "
   ]
  },
  {
   "cell_type": "code",
   "execution_count": 4,
   "metadata": {},
   "outputs": [],
   "source": [
    "s=stack();\n",
    "s.push(1);\n",
    "s.push(2);\n",
    "s.push(3);\n",
    "s.push(4);\n",
    "s.push(5);"
   ]
  },
  {
   "cell_type": "code",
   "execution_count": null,
   "metadata": {},
   "outputs": [],
   "source": []
  }
 ],
 "metadata": {
  "kernelspec": {
   "display_name": "Python 3",
   "language": "python",
   "name": "python3"
  },
  "language_info": {
   "codemirror_mode": {
    "name": "ipython",
    "version": 3
   },
   "file_extension": ".py",
   "mimetype": "text/x-python",
   "name": "python",
   "nbconvert_exporter": "python",
   "pygments_lexer": "ipython3",
   "version": "3.6.8"
  }
 },
 "nbformat": 4,
 "nbformat_minor": 2
}
