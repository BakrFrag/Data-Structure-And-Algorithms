{
 "cells": [
  {
   "cell_type": "markdown",
   "metadata": {},
   "source": [
    "# Dequeue\n",
    "## Double Ended Queue \n",
    "can add or delete from any end of them"
   ]
  },
  {
   "cell_type": "code",
   "execution_count": 4,
   "metadata": {},
   "outputs": [],
   "source": [
    "class dequeue():\n",
    "    def __init__(self):\n",
    "        self.items=[];\n",
    "    def push_front(self,item):\n",
    "        self.items.inser(0,item);\n",
    "    @property\n",
    "    def pop_front(self):\n",
    "        try:\n",
    "              self.items.pop(0);\n",
    "        except:\n",
    "            pass\n",
    "    def push_tail(self,item):\n",
    "        self.items.append(item);\n",
    "    @property\n",
    "    def pop_tail(self):\n",
    "        self.items.pop();\n",
    "    @property\n",
    "    def isempty(self):\n",
    "        return self.items==[];\n",
    "    @property\n",
    "    def display(self):\n",
    "        print(*self.items);\n",
    "    @property\n",
    "    def peek(self):\n",
    "        return self.items[-1];\n",
    "    @property\n",
    "    def size(self):\n",
    "        return len(self.items);"
   ]
  },
  {
   "cell_type": "code",
   "execution_count": 5,
   "metadata": {},
   "outputs": [],
   "source": [
    "dq=dequeue()"
   ]
  },
  {
   "cell_type": "code",
   "execution_count": 6,
   "metadata": {},
   "outputs": [],
   "source": [
    "dq.pop_front\n"
   ]
  },
  {
   "cell_type": "code",
   "execution_count": 8,
   "metadata": {},
   "outputs": [],
   "source": [
    "dq.push_tail(10)"
   ]
  },
  {
   "cell_type": "code",
   "execution_count": null,
   "metadata": {},
   "outputs": [],
   "source": []
  }
 ],
 "metadata": {
  "kernelspec": {
   "display_name": "Python 3",
   "language": "python",
   "name": "python3"
  },
  "language_info": {
   "codemirror_mode": {
    "name": "ipython",
    "version": 3
   },
   "file_extension": ".py",
   "mimetype": "text/x-python",
   "name": "python",
   "nbconvert_exporter": "python",
   "pygments_lexer": "ipython3",
   "version": "3.6.8"
  }
 },
 "nbformat": 4,
 "nbformat_minor": 2
}
