{
 "cells": [
  {
   "cell_type": "markdown",
   "metadata": {},
   "source": [
    "# QUEUE\n",
    "## LIFO Last In First Out\n"
   ]
  },
  {
   "cell_type": "code",
   "execution_count": 45,
   "metadata": {},
   "outputs": [],
   "source": [
    "class queue():\n",
    "    \n",
    "    \n",
    "    \n",
    "    def __init__(self):\n",
    "        print(self)\n",
    "        self.items=[];\n",
    "    def push(self,item):\n",
    "        \n",
    "        self.items.insert(0,item);\n",
    "    @property\n",
    "    def pop(self):\n",
    "        \n",
    "        self.items.pop();\n",
    "    def isempty(self):\n",
    "        return self.items==[];\n",
    "    @property\n",
    "    def size(self):\n",
    "        return len(self.items);\n",
    "    @property\n",
    "    def peek(self):\n",
    "        return self.items[-1];\n",
    "    @property\n",
    "    def display(self):\n",
    "        print(*self.items);\n",
    "    \n",
    "    "
   ]
  },
  {
   "cell_type": "code",
   "execution_count": 46,
   "metadata": {},
   "outputs": [
    {
     "name": "stdout",
     "output_type": "stream",
     "text": [
      "<__main__.queue object at 0x7f5061e01fd0>\n"
     ]
    }
   ],
   "source": [
    "q=queue()"
   ]
  },
  {
   "cell_type": "code",
   "execution_count": 47,
   "metadata": {},
   "outputs": [],
   "source": [
    "q.push(10);\n",
    "q.push(11);\n",
    "q.push(12);\n",
    "q.push(13);\n",
    "q.push(14);\n",
    "q.push(15);"
   ]
  },
  {
   "cell_type": "code",
   "execution_count": 48,
   "metadata": {},
   "outputs": [
    {
     "name": "stdout",
     "output_type": "stream",
     "text": [
      "15 14 13 12 11 10\n"
     ]
    }
   ],
   "source": [
    "q.display"
   ]
  },
  {
   "cell_type": "code",
   "execution_count": 49,
   "metadata": {},
   "outputs": [],
   "source": [
    "q.push(100)"
   ]
  },
  {
   "cell_type": "code",
   "execution_count": 50,
   "metadata": {},
   "outputs": [
    {
     "name": "stdout",
     "output_type": "stream",
     "text": [
      "100 15 14 13 12 11 10\n"
     ]
    }
   ],
   "source": [
    "q.display"
   ]
  },
  {
   "cell_type": "code",
   "execution_count": 51,
   "metadata": {},
   "outputs": [],
   "source": [
    "q.pop\n"
   ]
  },
  {
   "cell_type": "code",
   "execution_count": 52,
   "metadata": {},
   "outputs": [
    {
     "name": "stdout",
     "output_type": "stream",
     "text": [
      "100 15 14 13 12 11\n"
     ]
    }
   ],
   "source": [
    "q.display"
   ]
  },
  {
   "cell_type": "code",
   "execution_count": null,
   "metadata": {},
   "outputs": [],
   "source": []
  },
  {
   "cell_type": "code",
   "execution_count": null,
   "metadata": {},
   "outputs": [],
   "source": []
  }
 ],
 "metadata": {
  "kernelspec": {
   "display_name": "Python 3",
   "language": "python",
   "name": "python3"
  },
  "language_info": {
   "codemirror_mode": {
    "name": "ipython",
    "version": 3
   },
   "file_extension": ".py",
   "mimetype": "text/x-python",
   "name": "python",
   "nbconvert_exporter": "python",
   "pygments_lexer": "ipython3",
   "version": "3.6.8"
  }
 },
 "nbformat": 4,
 "nbformat_minor": 2
}
