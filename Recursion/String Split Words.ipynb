{
 "cells": [
  {
   "cell_type": "markdown",
   "metadata": {},
   "source": [
    "# Split String Phase\n",
    "* take a string and list of words\n",
    "* recursively split string on words given"
   ]
  },
  {
   "cell_type": "code",
   "execution_count": 18,
   "metadata": {},
   "outputs": [],
   "source": [
    "def phase(s,words=[],output=[]):\n",
    "    print(output);\n",
    "    if words==[]:\n",
    "        raise ValueError(\"Words Of Phase Musn't Be Empty\");\n",
    "    else:\n",
    "        #Base case When No Words On List Words\n",
    "        for w in words:\n",
    "            if s.startswith(w):\n",
    "                output.append(w);\n",
    "                phase(s[len(w):],words,output);\n",
    "    return output if bool(output) else \"Not Possible\"; "
   ]
  },
  {
   "cell_type": "code",
   "execution_count": 23,
   "metadata": {},
   "outputs": [
    {
     "name": "stdout",
     "output_type": "stream",
     "text": [
      "[]\n",
      "['new']\n",
      "['new', 'programming']\n"
     ]
    },
    {
     "data": {
      "text/plain": [
       "['new', 'programming']"
      ]
     },
     "execution_count": 23,
     "metadata": {},
     "output_type": "execute_result"
    }
   ],
   "source": [
    "phase(\"newprogrammingchallange\",[\"new\",\"programming\"],[])"
   ]
  },
  {
   "cell_type": "code",
   "execution_count": 24,
   "metadata": {},
   "outputs": [
    {
     "name": "stdout",
     "output_type": "stream",
     "text": [
      "[]\n",
      "['bakr']\n"
     ]
    },
    {
     "data": {
      "text/plain": [
       "['bakr']"
      ]
     },
     "execution_count": 24,
     "metadata": {},
     "output_type": "execute_result"
    }
   ],
   "source": [
    "phase(\"bakrfrag\",[\"bakr\"],[])"
   ]
  },
  {
   "cell_type": "code",
   "execution_count": 25,
   "metadata": {},
   "outputs": [
    {
     "name": "stdout",
     "output_type": "stream",
     "text": [
      "[]\n",
      "['b']\n",
      "['b', 'b']\n",
      "['b', 'b', 'b']\n",
      "['b', 'b', 'b', 'b']\n",
      "['b', 'b', 'b', 'b', 'b']\n",
      "['b', 'b', 'b', 'b', 'b', 'b']\n",
      "['b', 'b', 'b', 'b', 'b', 'b', 'n']\n",
      "['b', 'b', 'b', 'b', 'b', 'b', 'n', 'n']\n",
      "['b', 'b', 'b', 'b', 'b', 'b', 'n', 'n', 'n']\n",
      "['b', 'b', 'b', 'b', 'b', 'b', 'n', 'n', 'n', 'n']\n",
      "['b', 'b', 'b', 'b', 'b', 'b', 'n', 'n', 'n', 'n', 'n']\n",
      "['b', 'b', 'b', 'b', 'b', 'b', 'n', 'n', 'n', 'n', 'n', 'n']\n",
      "['b', 'b', 'b', 'b', 'b', 'b', 'n', 'n', 'n', 'n', 'n', 'n', 'b']\n",
      "['b', 'b', 'b', 'b', 'b', 'b', 'n', 'n', 'n', 'n', 'n', 'n', 'b', 'b']\n",
      "['b', 'b', 'b', 'b', 'b', 'b', 'n', 'n', 'n', 'n', 'n', 'n', 'b', 'b', 'b']\n",
      "['b', 'b', 'b', 'b', 'b', 'b', 'n', 'n', 'n', 'n', 'n', 'n', 'b', 'b', 'b', 'b']\n",
      "['b', 'b', 'b', 'b', 'b', 'b', 'n', 'n', 'n', 'n', 'n', 'n', 'b', 'b', 'b', 'b', 'b']\n"
     ]
    },
    {
     "data": {
      "text/plain": [
       "['b',\n",
       " 'b',\n",
       " 'b',\n",
       " 'b',\n",
       " 'b',\n",
       " 'b',\n",
       " 'n',\n",
       " 'n',\n",
       " 'n',\n",
       " 'n',\n",
       " 'n',\n",
       " 'n',\n",
       " 'b',\n",
       " 'b',\n",
       " 'b',\n",
       " 'b',\n",
       " 'b']"
      ]
     },
     "execution_count": 25,
     "metadata": {},
     "output_type": "execute_result"
    }
   ],
   "source": [
    "phase(\"bbbbbbnnnnnnbbbbb\",[\"b\",\"n\"],[])"
   ]
  },
  {
   "cell_type": "code",
   "execution_count": null,
   "metadata": {},
   "outputs": [],
   "source": []
  }
 ],
 "metadata": {
  "kernelspec": {
   "display_name": "Python 3",
   "language": "python",
   "name": "python3"
  },
  "language_info": {
   "codemirror_mode": {
    "name": "ipython",
    "version": 3
   },
   "file_extension": ".py",
   "mimetype": "text/x-python",
   "name": "python",
   "nbconvert_exporter": "python",
   "pygments_lexer": "ipython3",
   "version": "3.6.8"
  }
 },
 "nbformat": 4,
 "nbformat_minor": 2
}
