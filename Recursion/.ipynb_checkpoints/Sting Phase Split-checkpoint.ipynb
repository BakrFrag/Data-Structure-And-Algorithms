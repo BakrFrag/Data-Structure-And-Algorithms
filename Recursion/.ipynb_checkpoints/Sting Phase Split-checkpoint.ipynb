{
 "cells": [
  {
   "cell_type": "markdown",
   "metadata": {},
   "source": [
    "# String Phase Split\n",
    "* given a string phase and list of words\n",
    "* recursively check if we can split phase into words on list\n"
   ]
  },
  {
   "cell_type": "code",
   "execution_count": 2,
   "metadata": {},
   "outputs": [],
   "source": [
    "def split(s,words,output=[]):\n",
    "    \n",
    "    if words==[]:\n",
    "        raise ValueError(\"No Words Passed\");\n",
    "    else:\n",
    "        # Base Case When No Words To Iterate On Words\n",
    "        for w in words:\n",
    "            # Recursive Case\n",
    "            if s.startswith(w):\n",
    "                #print(w);\n",
    "                output.append(w);\n",
    "                return split(s[len(w):],words,output)\n",
    "        return output if bool(output) else \"not possible\""
   ]
  },
  {
   "cell_type": "code",
   "execution_count": 3,
   "metadata": {},
   "outputs": [
    {
     "data": {
      "text/plain": [
       "'not possible'"
      ]
     },
     "execution_count": 3,
     "metadata": {},
     "output_type": "execute_result"
    }
   ],
   "source": [
    "split(\"bakrthethethefrag\",[\"mm\",\"nhhhh\"])"
   ]
  },
  {
   "cell_type": "code",
   "execution_count": 4,
   "metadata": {},
   "outputs": [
    {
     "data": {
      "text/plain": [
       "'not possible'"
      ]
     },
     "execution_count": 4,
     "metadata": {},
     "output_type": "execute_result"
    }
   ],
   "source": [
    "split(\"dfjkghkdfuhg\",[\"k\",\"h\"])"
   ]
  },
  {
   "cell_type": "code",
   "execution_count": 5,
   "metadata": {},
   "outputs": [
    {
     "data": {
      "text/plain": [
       "'not possible'"
      ]
     },
     "execution_count": 5,
     "metadata": {},
     "output_type": "execute_result"
    }
   ],
   "source": [
    "split(\"helloworldthankstoyoumuch\",[\"much\",'you'])"
   ]
  },
  {
   "cell_type": "code",
   "execution_count": 6,
   "metadata": {},
   "outputs": [
    {
     "data": {
      "text/plain": [
       "['helloworldthankstoyoumu', 'ch']"
      ]
     },
     "execution_count": 6,
     "metadata": {},
     "output_type": "execute_result"
    }
   ],
   "source": [
    "split(\"helloworldthankstoyoumuch\",[\"helloworldthankstoyoumu\",'ch'])"
   ]
  },
  {
   "cell_type": "code",
   "execution_count": 7,
   "metadata": {},
   "outputs": [
    {
     "data": {
      "text/plain": [
       "['helloworldthankstoyoumu', 'ch', 'helloworld']"
      ]
     },
     "execution_count": 7,
     "metadata": {},
     "output_type": "execute_result"
    }
   ],
   "source": [
    "split(\"helloworldthankstoyoumuch\",[\"helloworld\",'youmuch'])"
   ]
  },
  {
   "cell_type": "code",
   "execution_count": 38,
   "metadata": {},
   "outputs": [
    {
     "data": {
      "text/plain": [
       "['helloworldthankstoyoumu',\n",
       " 'ch',\n",
       " 'helloworld',\n",
       " 'helloworld',\n",
       " 'helloworld',\n",
       " 'helloworld',\n",
       " 'bak']"
      ]
     },
     "execution_count": 38,
     "metadata": {},
     "output_type": "execute_result"
    }
   ],
   "source": [
    "split(\"bakrfragmohammed\",[\"bak\",\"frag\"])"
   ]
  },
  {
   "cell_type": "code",
   "execution_count": null,
   "metadata": {},
   "outputs": [],
   "source": []
  }
 ],
 "metadata": {
  "kernelspec": {
   "display_name": "Python 3",
   "language": "python",
   "name": "python3"
  },
  "language_info": {
   "codemirror_mode": {
    "name": "ipython",
    "version": 3
   },
   "file_extension": ".py",
   "mimetype": "text/x-python",
   "name": "python",
   "nbconvert_exporter": "python",
   "pygments_lexer": "ipython3",
   "version": "3.6.8"
  }
 },
 "nbformat": 4,
 "nbformat_minor": 2
}
