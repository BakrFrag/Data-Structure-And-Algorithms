{
 "cells": [
  {
   "cell_type": "code",
   "execution_count": 7,
   "metadata": {},
   "outputs": [],
   "source": [
    "class BinaryTree():\n",
    "    def __init__(self,data):\n",
    "        self.data=data;\n",
    "        self.right=None;\n",
    "        self.left=None;\n",
    "    # Insert Data On Left Branch \n",
    "    # If Left Branch Not Found Init It\n",
    "    # If It Found But It In Left Of New Node And Push It Down Of New Node \n",
    "    def insertLeft(self,LeftBranch):\n",
    "        if self.left==None:\n",
    "            self.left=BinaryTree(LeftBranch);\n",
    "        else:\n",
    "             branch=BinaryTree(LeftBranch);\n",
    "             branch.left=self.left;\n",
    "             self.left=branch;\n",
    "    # Insert Data On Right Branch \n",
    "    # If Right Branch Not Found Init It\n",
    "    # If It Found But It In Right Of New Node And Push It Down Of New Node\n",
    "    def insertRight(self,RightBranch):\n",
    "             branch=BinaryTree(Branch);\n",
    "             if self.right==None:\n",
    "                    self.right=branch;\n",
    "             else:\n",
    "                branch.right=self.right;\n",
    "                self.right=branch;\n",
    "    def getRootVal(self):\n",
    "        return self.data;\n",
    "    def setRootVal(self,value):\n",
    "        self.data=value;\n",
    "    def getRightBranch(self):\n",
    "        return self.right;\n",
    "    def getLeftBranch(self):\n",
    "        return self.left;\n",
    "    def __str__(self):\n",
    "        return self.data\n",
    "                \n",
    "            \n",
    "            "
   ]
  },
  {
   "cell_type": "code",
   "execution_count": null,
   "metadata": {},
   "outputs": [],
   "source": []
  }
 ],
 "metadata": {
  "kernelspec": {
   "display_name": "Python 3",
   "language": "python",
   "name": "python3"
  },
  "language_info": {
   "codemirror_mode": {
    "name": "ipython",
    "version": 3
   },
   "file_extension": ".py",
   "mimetype": "text/x-python",
   "name": "python",
   "nbconvert_exporter": "python",
   "pygments_lexer": "ipython3",
   "version": "3.6.9"
  }
 },
 "nbformat": 4,
 "nbformat_minor": 4
}
