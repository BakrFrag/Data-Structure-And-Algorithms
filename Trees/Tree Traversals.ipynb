{
 "cells": [
  {
   "cell_type": "markdown",
   "metadata": {},
   "source": [
    "![title](booktree.png)"
   ]
  },
  {
   "cell_type": "code",
   "execution_count": 11,
   "metadata": {},
   "outputs": [],
   "source": [
    "class BinaryTree():\n",
    "    def __init__(self,data):\n",
    "        self.data=data;\n",
    "        self.right=None;\n",
    "        self.left=None;\n",
    "    # Insert Data On Left Branch \n",
    "    # If Left Branch Not Found Init It\n",
    "    # If It Found But It In Left Of New Node And Push It Down Of New Node \n",
    "    def insertLeft(self,LeftBranch):\n",
    "        if self.left==None:\n",
    "            self.left=BinaryTree(LeftBranch);\n",
    "        else:\n",
    "             branch=BinaryTree(LeftBranch);\n",
    "             branch.left=self.left;\n",
    "             self.left=branch;\n",
    "    # Insert Data On Right Branch \n",
    "    # If Right Branch Not Found Init It\n",
    "    # If It Found But It In Right Of New Node And Push It Down Of New Node\n",
    "    def insertRight(self,RightBranch):\n",
    "             branch=BinaryTree(RightBranch);\n",
    "             if self.right==None:\n",
    "                    self.right=branch;\n",
    "             else:\n",
    "                branch.right=self.right;\n",
    "                self.right=branch;\n",
    "    def getRootVal(self):\n",
    "        return self.data;\n",
    "    def setRootVal(self,value):\n",
    "        self.data=value;\n",
    "    def getRightBranch(self):\n",
    "        return self.right;\n",
    "    def getLeftBranch(self):\n",
    "        return self.left;\n",
    "    def __str__(self):\n",
    "        return self.data\n",
    "                \n",
    "            \n",
    "            "
   ]
  },
  {
   "cell_type": "code",
   "execution_count": 12,
   "metadata": {},
   "outputs": [],
   "source": [
    "tree=BinaryTree(\"Book\");"
   ]
  },
  {
   "cell_type": "code",
   "execution_count": 13,
   "metadata": {},
   "outputs": [
    {
     "data": {
      "text/plain": [
       "<__main__.BinaryTree at 0x7ff8885f5e10>"
      ]
     },
     "execution_count": 13,
     "metadata": {},
     "output_type": "execute_result"
    }
   ],
   "source": [
    "tree"
   ]
  },
  {
   "cell_type": "code",
   "execution_count": 14,
   "metadata": {},
   "outputs": [],
   "source": [
    "tree.insertLeft(\"chapter_1\");"
   ]
  },
  {
   "cell_type": "code",
   "execution_count": 15,
   "metadata": {},
   "outputs": [],
   "source": [
    "tree.getLeftBranch().insertLeft('section_1_1');"
   ]
  },
  {
   "cell_type": "code",
   "execution_count": 16,
   "metadata": {},
   "outputs": [],
   "source": [
    "tree.getLeftBranch().insertRight(\"section_1_2\");"
   ]
  },
  {
   "cell_type": "code",
   "execution_count": 17,
   "metadata": {},
   "outputs": [],
   "source": [
    "tree.getLeftBranch().getRightBranch().insertLeft(\"section_1_2_1\");"
   ]
  },
  {
   "cell_type": "code",
   "execution_count": 18,
   "metadata": {},
   "outputs": [],
   "source": [
    "tree.getLeftBranch().getRightBranch().insertRight(\"section_1_2_2\");"
   ]
  },
  {
   "cell_type": "code",
   "execution_count": 19,
   "metadata": {},
   "outputs": [
    {
     "data": {
      "text/plain": [
       "<__main__.BinaryTree at 0x7ff8885f5e10>"
      ]
     },
     "execution_count": 19,
     "metadata": {},
     "output_type": "execute_result"
    }
   ],
   "source": [
    "tree"
   ]
  },
  {
   "cell_type": "code",
   "execution_count": 20,
   "metadata": {},
   "outputs": [
    {
     "name": "stdout",
     "output_type": "stream",
     "text": [
      "Book\n"
     ]
    }
   ],
   "source": [
    "print(tree)\n"
   ]
  },
  {
   "cell_type": "code",
   "execution_count": 21,
   "metadata": {},
   "outputs": [],
   "source": [
    "tree.insertRight(\"Chapter 2\");\n",
    "tree.getRightBranch().insertLeft(\"section 2_1\");\n",
    "tree.getRightBranch().insertRight(\"section 2_2\");\n",
    "tree.getRightBranch().getRightBranch().insertLeft(\"section 2_2_1\");\n",
    "tree.getRightBranch().getRightBranch().insertRight(\"section 2_2_2\")"
   ]
  },
  {
   "cell_type": "code",
   "execution_count": 24,
   "metadata": {},
   "outputs": [],
   "source": [
    "# Tree PreOrder Traversals\n",
    "def preorder(tree):\n",
    "    if tree:\n",
    "        print(tree.getRootVal())\n",
    "        preorder(tree.getLeftBranch())\n",
    "        preorder(tree.getRightBranch())"
   ]
  },
  {
   "cell_type": "code",
   "execution_count": 25,
   "metadata": {},
   "outputs": [
    {
     "name": "stdout",
     "output_type": "stream",
     "text": [
      "Book\n",
      "chapter_1\n",
      "section_1_1\n",
      "section_1_2\n",
      "section_1_2_1\n",
      "section_1_2_2\n",
      "Chapter 2\n",
      "section 2_1\n",
      "section 2_2\n",
      "section 2_2_1\n",
      "section 2_2_2\n"
     ]
    }
   ],
   "source": [
    "preorder(tree)"
   ]
  },
  {
   "cell_type": "code",
   "execution_count": null,
   "metadata": {},
   "outputs": [],
   "source": []
  }
 ],
 "metadata": {
  "kernelspec": {
   "display_name": "Python 3",
   "language": "python",
   "name": "python3"
  },
  "language_info": {
   "codemirror_mode": {
    "name": "ipython",
    "version": 3
   },
   "file_extension": ".py",
   "mimetype": "text/x-python",
   "name": "python",
   "nbconvert_exporter": "python",
   "pygments_lexer": "ipython3",
   "version": "3.6.9"
  }
 },
 "nbformat": 4,
 "nbformat_minor": 4
}
