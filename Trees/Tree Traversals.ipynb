{
 "cells": [
  {
   "cell_type": "markdown",
   "metadata": {},
   "source": [
    "![title](booktree.png)"
   ]
  },
  {
   "cell_type": "code",
   "execution_count": 42,
   "metadata": {},
   "outputs": [],
   "source": [
    "class BinaryTree():\n",
    "    def __init__(self,data):\n",
    "        self.data=data;\n",
    "        self.right=None;\n",
    "        self.left=None;\n",
    "    # Insert Data On Left Branch \n",
    "    # If Left Branch Not Found Init It\n",
    "    # If It Found But It In Left Of New Node And Push It Down Of New Node \n",
    "    def insertLeft(self,LeftBranch):\n",
    "        if self.left==None:\n",
    "            self.left=BinaryTree(LeftBranch);\n",
    "        else:\n",
    "             branch=BinaryTree(LeftBranch);\n",
    "             branch.left=self.left;\n",
    "             self.left=branch;\n",
    "    # Insert Data On Right Branch \n",
    "    # If Right Branch Not Found Init It\n",
    "    # If It Found But It In Right Of New Node And Push It Down Of New Node\n",
    "    def insertRight(self,RightBranch):\n",
    "             branch=BinaryTree(RightBranch);\n",
    "             if self.right==None:\n",
    "                    self.right=branch;\n",
    "             else:\n",
    "                branch.right=self.right;\n",
    "                self.right=branch;\n",
    "    def getRootVal(self):\n",
    "        return self.data;\n",
    "    def setRootVal(self,value):\n",
    "        self.data=value;\n",
    "    def getRightBranch(self):\n",
    "        return self.right;\n",
    "    def getLeftBranch(self):\n",
    "        return self.left;\n",
    "    def __str__(self):\n",
    "        return self.data;\n",
    "    # add preorder as method \n",
    "    def preorder(self):\n",
    "        print(self.data,);\n",
    "        preorder(self.getLeftBranch());\n",
    "        preorder(self.getRightBranch());\n",
    "    # add postorder as method \n",
    "    def postorder(self):\n",
    "        postorder(self.getLeftBranch());\n",
    "        postorder(self.getRightBranch());\n",
    "        print(self.data);\n",
    "    # add inorder \n",
    "        \n",
    "        \n",
    "                \n",
    "            \n",
    "            "
   ]
  },
  {
   "cell_type": "code",
   "execution_count": 27,
   "metadata": {},
   "outputs": [],
   "source": [
    "tree=BinaryTree(\"Book\");"
   ]
  },
  {
   "cell_type": "code",
   "execution_count": 28,
   "metadata": {},
   "outputs": [
    {
     "data": {
      "text/plain": [
       "<__main__.BinaryTree at 0x7ff888102b70>"
      ]
     },
     "execution_count": 28,
     "metadata": {},
     "output_type": "execute_result"
    }
   ],
   "source": [
    "tree"
   ]
  },
  {
   "cell_type": "code",
   "execution_count": 29,
   "metadata": {},
   "outputs": [],
   "source": [
    "tree.insertLeft(\"chapter_1\");"
   ]
  },
  {
   "cell_type": "code",
   "execution_count": 30,
   "metadata": {},
   "outputs": [],
   "source": [
    "tree.getLeftBranch().insertLeft('section_1_1');"
   ]
  },
  {
   "cell_type": "code",
   "execution_count": 31,
   "metadata": {},
   "outputs": [],
   "source": [
    "tree.getLeftBranch().insertRight(\"section_1_2\");"
   ]
  },
  {
   "cell_type": "code",
   "execution_count": 32,
   "metadata": {},
   "outputs": [],
   "source": [
    "tree.getLeftBranch().getRightBranch().insertLeft(\"section_1_2_1\");"
   ]
  },
  {
   "cell_type": "code",
   "execution_count": 33,
   "metadata": {},
   "outputs": [],
   "source": [
    "tree.getLeftBranch().getRightBranch().insertRight(\"section_1_2_2\");"
   ]
  },
  {
   "cell_type": "code",
   "execution_count": 34,
   "metadata": {},
   "outputs": [
    {
     "data": {
      "text/plain": [
       "<__main__.BinaryTree at 0x7ff888102b70>"
      ]
     },
     "execution_count": 34,
     "metadata": {},
     "output_type": "execute_result"
    }
   ],
   "source": [
    "tree"
   ]
  },
  {
   "cell_type": "code",
   "execution_count": 35,
   "metadata": {},
   "outputs": [
    {
     "name": "stdout",
     "output_type": "stream",
     "text": [
      "Book\n"
     ]
    }
   ],
   "source": [
    "print(tree)\n"
   ]
  },
  {
   "cell_type": "code",
   "execution_count": 36,
   "metadata": {},
   "outputs": [],
   "source": [
    "tree.insertRight(\"Chapter 2\");\n",
    "tree.getRightBranch().insertLeft(\"section 2_1\");\n",
    "tree.getRightBranch().insertRight(\"section 2_2\");\n",
    "tree.getRightBranch().getRightBranch().insertLeft(\"section 2_2_1\");\n",
    "tree.getRightBranch().getRightBranch().insertRight(\"section 2_2_2\")"
   ]
  },
  {
   "cell_type": "code",
   "execution_count": 37,
   "metadata": {},
   "outputs": [],
   "source": [
    "# Tree PreOrder Traversals\n",
    "def preorder(tree):\n",
    "    if tree:\n",
    "        print(tree.getRootVal())\n",
    "        preorder(tree.getLeftBranch())\n",
    "        preorder(tree.getRightBranch())"
   ]
  },
  {
   "cell_type": "code",
   "execution_count": 38,
   "metadata": {},
   "outputs": [
    {
     "name": "stdout",
     "output_type": "stream",
     "text": [
      "Book\n",
      "chapter_1\n",
      "section_1_1\n",
      "section_1_2\n",
      "section_1_2_1\n",
      "section_1_2_2\n",
      "Chapter 2\n",
      "section 2_1\n",
      "section 2_2\n",
      "section 2_2_1\n",
      "section 2_2_2\n"
     ]
    }
   ],
   "source": [
    "preorder(tree)"
   ]
  },
  {
   "cell_type": "code",
   "execution_count": 39,
   "metadata": {},
   "outputs": [
    {
     "name": "stdout",
     "output_type": "stream",
     "text": [
      "Book\n",
      "chapter_1\n",
      "section_1_1\n",
      "section_1_2\n",
      "section_1_2_1\n",
      "section_1_2_2\n",
      "Chapter 2\n",
      "section 2_1\n",
      "section 2_2\n",
      "section 2_2_1\n",
      "section 2_2_2\n"
     ]
    }
   ],
   "source": [
    "tree.preorder();"
   ]
  },
  {
   "cell_type": "code",
   "execution_count": 40,
   "metadata": {},
   "outputs": [],
   "source": [
    "def postorder(tree):\n",
    "    if tree:\n",
    "        postorder(tree.getLeftBranch());\n",
    "        postorder(tree.getRightBranch());\n",
    "        print(tree.getRootVal());"
   ]
  },
  {
   "cell_type": "code",
   "execution_count": 41,
   "metadata": {},
   "outputs": [
    {
     "name": "stdout",
     "output_type": "stream",
     "text": [
      "section_1_1\n",
      "section_1_2_1\n",
      "section_1_2_2\n",
      "section_1_2\n",
      "chapter_1\n",
      "section 2_1\n",
      "section 2_2_1\n",
      "section 2_2_2\n",
      "section 2_2\n",
      "Chapter 2\n",
      "Book\n"
     ]
    }
   ],
   "source": [
    "postorder(tree)"
   ]
  },
  {
   "cell_type": "code",
   "execution_count": 43,
   "metadata": {},
   "outputs": [],
   "source": [
    "def inorder(tree):\n",
    "    if tree:\n",
    "        inorder(tree.getLeftBranch());\n",
    "        print(tree.getRootVal());\n",
    "        inorder(tree.getRightBranch());"
   ]
  },
  {
   "cell_type": "code",
   "execution_count": 44,
   "metadata": {},
   "outputs": [
    {
     "name": "stdout",
     "output_type": "stream",
     "text": [
      "section_1_1\n",
      "chapter_1\n",
      "section_1_2_1\n",
      "section_1_2\n",
      "section_1_2_2\n",
      "Book\n",
      "section 2_1\n",
      "Chapter 2\n",
      "section 2_2_1\n",
      "section 2_2\n",
      "section 2_2_2\n"
     ]
    }
   ],
   "source": [
    "inorder(tree)"
   ]
  },
  {
   "cell_type": "code",
   "execution_count": null,
   "metadata": {},
   "outputs": [],
   "source": []
  }
 ],
 "metadata": {
  "kernelspec": {
   "display_name": "Python 3",
   "language": "python",
   "name": "python3"
  },
  "language_info": {
   "codemirror_mode": {
    "name": "ipython",
    "version": 3
   },
   "file_extension": ".py",
   "mimetype": "text/x-python",
   "name": "python",
   "nbconvert_exporter": "python",
   "pygments_lexer": "ipython3",
   "version": "3.6.9"
  }
 },
 "nbformat": 4,
 "nbformat_minor": 4
}
