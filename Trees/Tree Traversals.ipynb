{
 "cells": [
  {
   "cell_type": "markdown",
   "metadata": {},
   "source": [
    "![title](booktree.png)"
   ]
  },
  {
   "cell_type": "code",
   "execution_count": 47,
   "metadata": {},
   "outputs": [],
   "source": [
    "class BinaryTree():\n",
    "    def __init__(self,data):\n",
    "        self.data=data;\n",
    "        self.right=None;\n",
    "        self.left=None;\n",
    "    # Insert Data On Left Branch \n",
    "    # If Left Branch Not Found Init It\n",
    "    # If It Found But It In Left Of New Node And Push It Down Of New Node \n",
    "    def insertLeft(self,LeftBranch):\n",
    "        if self.left==None:\n",
    "            self.left=BinaryTree(LeftBranch);\n",
    "        else:\n",
    "             branch=BinaryTree(LeftBranch);\n",
    "             branch.left=self.left;\n",
    "             self.left=branch;\n",
    "    # Insert Data On Right Branch \n",
    "    # If Right Branch Not Found Init It\n",
    "    # If It Found But It In Right Of New Node And Push It Down Of New Node\n",
    "    def insertRight(self,RightBranch):\n",
    "             branch=BinaryTree(RightBranch);\n",
    "             if self.right==None:\n",
    "                    self.right=branch;\n",
    "             else:\n",
    "                branch.right=self.right;\n",
    "                self.right=branch;\n",
    "    def getRootVal(self):\n",
    "        return self.data;\n",
    "    def setRootVal(self,value):\n",
    "        self.data=value;\n",
    "    def getRightBranch(self):\n",
    "        return self.right;\n",
    "    def getLeftBranch(self):\n",
    "        return self.left;\n",
    "    def __str__(self):\n",
    "        return self.data;\n",
    "    # add preorder as method \n",
    "    def preorder(self):\n",
    "        print(self.data,);\n",
    "        preorder(self.getLeftBranch());\n",
    "        preorder(self.getRightBranch());\n",
    "    # add postorder as method \n",
    "    def postorder(self):\n",
    "        postorder(self.getLeftBranch());\n",
    "        postorder(self.getRightBranch());\n",
    "        print(self.data);\n",
    "    # add inorder as methof\n",
    "    def inorder(self):\n",
    "        inorder(self.getLeftBranch());\n",
    "        print(self.data);\n",
    "        inorder(self.getRightBranch());\n",
    "        \n",
    "        \n",
    "                \n",
    "            \n",
    "            "
   ]
  },
  {
   "cell_type": "code",
   "execution_count": 48,
   "metadata": {},
   "outputs": [],
   "source": [
    "tree=BinaryTree(\"Book\");"
   ]
  },
  {
   "cell_type": "code",
   "execution_count": 49,
   "metadata": {},
   "outputs": [
    {
     "data": {
      "text/plain": [
       "<__main__.BinaryTree at 0x7ff888109898>"
      ]
     },
     "execution_count": 49,
     "metadata": {},
     "output_type": "execute_result"
    }
   ],
   "source": [
    "tree"
   ]
  },
  {
   "cell_type": "code",
   "execution_count": 50,
   "metadata": {},
   "outputs": [],
   "source": [
    "tree.insertLeft(\"chapter_1\");"
   ]
  },
  {
   "cell_type": "code",
   "execution_count": 51,
   "metadata": {},
   "outputs": [],
   "source": [
    "tree.getLeftBranch().insertLeft('section_1_1');"
   ]
  },
  {
   "cell_type": "code",
   "execution_count": 52,
   "metadata": {},
   "outputs": [],
   "source": [
    "tree.getLeftBranch().insertRight(\"section_1_2\");"
   ]
  },
  {
   "cell_type": "code",
   "execution_count": 53,
   "metadata": {},
   "outputs": [],
   "source": [
    "tree.getLeftBranch().getRightBranch().insertLeft(\"section_1_2_1\");"
   ]
  },
  {
   "cell_type": "code",
   "execution_count": 54,
   "metadata": {},
   "outputs": [],
   "source": [
    "tree.getLeftBranch().getRightBranch().insertRight(\"section_1_2_2\");"
   ]
  },
  {
   "cell_type": "code",
   "execution_count": 55,
   "metadata": {},
   "outputs": [
    {
     "data": {
      "text/plain": [
       "<__main__.BinaryTree at 0x7ff888109898>"
      ]
     },
     "execution_count": 55,
     "metadata": {},
     "output_type": "execute_result"
    }
   ],
   "source": [
    "tree"
   ]
  },
  {
   "cell_type": "code",
   "execution_count": 56,
   "metadata": {},
   "outputs": [
    {
     "name": "stdout",
     "output_type": "stream",
     "text": [
      "Book\n"
     ]
    }
   ],
   "source": [
    "print(tree)\n"
   ]
  },
  {
   "cell_type": "code",
   "execution_count": 57,
   "metadata": {},
   "outputs": [],
   "source": [
    "tree.insertRight(\"Chapter 2\");\n",
    "tree.getRightBranch().insertLeft(\"section 2_1\");\n",
    "tree.getRightBranch().insertRight(\"section 2_2\");\n",
    "tree.getRightBranch().getRightBranch().insertLeft(\"section 2_2_1\");\n",
    "tree.getRightBranch().getRightBranch().insertRight(\"section 2_2_2\")"
   ]
  },
  {
   "cell_type": "code",
   "execution_count": 58,
   "metadata": {},
   "outputs": [],
   "source": [
    "# Tree PreOrder Traversals\n",
    "def preorder(tree):\n",
    "    if tree:\n",
    "        print(tree.getRootVal())\n",
    "        preorder(tree.getLeftBranch())\n",
    "        preorder(tree.getRightBranch())"
   ]
  },
  {
   "cell_type": "code",
   "execution_count": 59,
   "metadata": {},
   "outputs": [
    {
     "name": "stdout",
     "output_type": "stream",
     "text": [
      "Book\n",
      "chapter_1\n",
      "section_1_1\n",
      "section_1_2\n",
      "section_1_2_1\n",
      "section_1_2_2\n",
      "Chapter 2\n",
      "section 2_1\n",
      "section 2_2\n",
      "section 2_2_1\n",
      "section 2_2_2\n"
     ]
    }
   ],
   "source": [
    "preorder(tree)"
   ]
  },
  {
   "cell_type": "code",
   "execution_count": 60,
   "metadata": {},
   "outputs": [
    {
     "name": "stdout",
     "output_type": "stream",
     "text": [
      "Book\n",
      "chapter_1\n",
      "section_1_1\n",
      "section_1_2\n",
      "section_1_2_1\n",
      "section_1_2_2\n",
      "Chapter 2\n",
      "section 2_1\n",
      "section 2_2\n",
      "section 2_2_1\n",
      "section 2_2_2\n"
     ]
    }
   ],
   "source": [
    "tree.preorder();"
   ]
  },
  {
   "cell_type": "code",
   "execution_count": 61,
   "metadata": {},
   "outputs": [],
   "source": [
    "def postorder(tree):\n",
    "    if tree:\n",
    "        postorder(tree.getLeftBranch());\n",
    "        postorder(tree.getRightBranch());\n",
    "        print(tree.getRootVal());"
   ]
  },
  {
   "cell_type": "code",
   "execution_count": 62,
   "metadata": {},
   "outputs": [
    {
     "name": "stdout",
     "output_type": "stream",
     "text": [
      "section_1_1\n",
      "section_1_2_1\n",
      "section_1_2_2\n",
      "section_1_2\n",
      "chapter_1\n",
      "section 2_1\n",
      "section 2_2_1\n",
      "section 2_2_2\n",
      "section 2_2\n",
      "Chapter 2\n",
      "Book\n"
     ]
    }
   ],
   "source": [
    "postorder(tree)"
   ]
  },
  {
   "cell_type": "code",
   "execution_count": 63,
   "metadata": {},
   "outputs": [],
   "source": [
    "def inorder(tree):\n",
    "    if tree:\n",
    "        inorder(tree.getLeftBranch());\n",
    "        print(tree.getRootVal());\n",
    "        inorder(tree.getRightBranch());"
   ]
  },
  {
   "cell_type": "code",
   "execution_count": 64,
   "metadata": {},
   "outputs": [
    {
     "name": "stdout",
     "output_type": "stream",
     "text": [
      "section_1_1\n",
      "chapter_1\n",
      "section_1_2_1\n",
      "section_1_2\n",
      "section_1_2_2\n",
      "Book\n",
      "section 2_1\n",
      "Chapter 2\n",
      "section 2_2_1\n",
      "section 2_2\n",
      "section 2_2_2\n"
     ]
    }
   ],
   "source": [
    "inorder(tree)"
   ]
  },
  {
   "cell_type": "code",
   "execution_count": 65,
   "metadata": {},
   "outputs": [
    {
     "name": "stdout",
     "output_type": "stream",
     "text": [
      "section_1_1\n",
      "chapter_1\n",
      "section_1_2_1\n",
      "section_1_2\n",
      "section_1_2_2\n",
      "Book\n",
      "section 2_1\n",
      "Chapter 2\n",
      "section 2_2_1\n",
      "section 2_2\n",
      "section 2_2_2\n"
     ]
    }
   ],
   "source": [
    "tree.inorder()"
   ]
  },
  {
   "cell_type": "code",
   "execution_count": null,
   "metadata": {},
   "outputs": [],
   "source": []
  },
  {
   "cell_type": "code",
   "execution_count": null,
   "metadata": {},
   "outputs": [],
   "source": []
  },
  {
   "cell_type": "code",
   "execution_count": null,
   "metadata": {},
   "outputs": [],
   "source": []
  }
 ],
 "metadata": {
  "kernelspec": {
   "display_name": "Python 3",
   "language": "python",
   "name": "python3"
  },
  "language_info": {
   "codemirror_mode": {
    "name": "ipython",
    "version": 3
   },
   "file_extension": ".py",
   "mimetype": "text/x-python",
   "name": "python",
   "nbconvert_exporter": "python",
   "pygments_lexer": "ipython3",
   "version": "3.6.9"
  }
 },
 "nbformat": 4,
 "nbformat_minor": 4
}
